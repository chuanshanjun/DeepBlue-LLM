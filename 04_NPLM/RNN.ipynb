{
 "cells": [
  {
   "attachments": {},
   "cell_type": "markdown",
   "id": "8e051dcc",
   "metadata": {},
   "source": [
    "# 生成式预训练语言模型：理论与实战\n",
    "深蓝学院 课程 \n",
    "课程链接：https://www.shenlanxueyuan.com/course/620\n",
    "\n",
    "作者 **黄佳**"
   ]
  },
  {
   "cell_type": "code",
   "execution_count": 1,
   "id": "1de25333",
   "metadata": {},
   "outputs": [
    {
     "name": "stdout",
     "output_type": "stream",
     "text": [
      "字典： {'玩具': 0, '我': 1, '爸爸': 2, '挨打': 3, '爱': 4, '讨厌': 5, '喜欢': 6}\n",
      "字典大小： 7\n"
     ]
    }
   ],
   "source": [
    "# 构建一个简单的数据集\n",
    "sentences = [\"我 喜欢 玩具\", \"我 爱 爸爸\", \"我 讨厌 挨打\"]  \n",
    "# 将所有句子连接在一起，用空格分隔成词汇，再将重复的词去除，构建词汇表\n",
    "word_list = list(set(\" \".join(sentences).split()))  \n",
    "# 创建一个字典，将每个词汇映射到一个唯一的索引\n",
    "word_to_idx = {word: idx for idx, word in enumerate(word_list)} \n",
    "# 创建一个字典，将每个索引映射到对应的词汇\n",
    "idx_to_word = {idx: word for idx, word in enumerate(word_list)}  \n",
    "voc_size = len(word_list)  # 计算词汇表的大小\n",
    "print('字典：', word_to_idx)  # 打印词汇到索引的映射字典\n",
    "print('字典大小：', voc_size)  # 打印词汇表大小 "
   ]
  },
  {
   "cell_type": "code",
   "execution_count": 2,
   "id": "9a82085c",
   "metadata": {},
   "outputs": [
    {
     "name": "stdout",
     "output_type": "stream",
     "text": [
      "输入批处理: tensor([[1, 5],\n",
      "        [1, 6]])\n",
      "输入批处理对应的原始词: [['我', '讨厌'], ['我', '喜欢']]\n",
      "目标批处理: tensor([3, 0])\n",
      "目标批处理对应的原始词: ['挨打', '玩具']\n"
     ]
    }
   ],
   "source": [
    "# 构建批处理数据\n",
    "import torch # 导入PyTorch库\n",
    "import random # 导入random库\n",
    "batch_size = 2 # 每批的数据大小\n",
    "def make_batch():\n",
    "    input_batch = []  # 定义输入批处理列表\n",
    "    target_batch = []  # 定义目标批处理列表\n",
    "    selected_sentences = random.sample(sentences, batch_size) # 随机选择句子\n",
    "    for sen in selected_sentences:  # 遍历每个句子\n",
    "        word = sen.split()  # 用空格将句子分隔成词汇\n",
    "        #将除最后一个词以外的所有词的索引作为输入\n",
    "        input = [word_to_idx[n] for n in word[:-1]]  # 创建输入数据\n",
    "        #将最后一个词的索引作为目标\n",
    "        target = word_to_idx[word[-1]]  # 创建目标数据\n",
    "        input_batch.append(input)  # 将输入添加到输入批处理列表\n",
    "        target_batch.append(target)  # 将目标添加到目标批处理列表\n",
    "    input_batch = torch.LongTensor(input_batch) # 将输入数据转换为张量\n",
    "    target_batch = torch.LongTensor(target_batch) # 将目标数据转换为张量\n",
    "    return input_batch, target_batch  # 返回输入批处理和目标批处理数据\n",
    "\n",
    "input_batch, target_batch = make_batch()\n",
    "print(\"输入批处理:\",input_batch)\n",
    "input_words = []\n",
    "for input_idx in input_batch:\n",
    "    input_words.append([idx_to_word[idx.item()] for idx in input_idx])\n",
    "print(\"输入批处理对应的原始词:\",input_words)\n",
    "print(\"目标批处理:\",target_batch)\n",
    "target_words = [idx_to_word[idx.item()] for idx in target_batch]\n",
    "print(\"目标批处理对应的原始词:\",target_words)"
   ]
  },
  {
   "cell_type": "code",
   "execution_count": 3,
   "id": "d0838508",
   "metadata": {},
   "outputs": [],
   "source": [
    "import torch # 导入PyTorch库\n",
    "import torch.nn as nn # 导入神经网络模块\n",
    "# 定义循环神经网络 (RNN) 语言模型\n",
    "class RNNLM(nn.Module):\n",
    "    def __init__(self):\n",
    "        super(RNNLM, self).__init__()\n",
    "        self.embedding = nn.Embedding(voc_size, embedding_size)\n",
    "        self.lstm = nn.LSTM(embedding_size, n_hidden, batch_first=True)\n",
    "        self.linear = nn.Linear(n_hidden, voc_size)\n",
    "\n",
    "    def forward(self, X):\n",
    "        X = self.embedding(X)\n",
    "        lstm_out, _ = self.lstm(X)\n",
    "        output = self.linear(lstm_out[:, -1, :])  # 只选择最后一个时间步的输出作为全连接层的输入\n",
    "        return output"
   ]
  },
  {
   "cell_type": "code",
   "execution_count": 4,
   "id": "eba29605",
   "metadata": {},
   "outputs": [
    {
     "name": "stdout",
     "output_type": "stream",
     "text": [
      "RNN模型结构： RNNLM(\n",
      "  (embedding): Embedding(7, 2)\n",
      "  (lstm): LSTM(2, 2, batch_first=True)\n",
      "  (linear): Linear(in_features=2, out_features=7, bias=True)\n",
      ")\n"
     ]
    }
   ],
   "source": [
    "n_hidden = 2 # 隐藏层大小\n",
    "embedding_size = 2 # 词嵌入大小\n",
    "model = RNNLM() # 创建神经概率语言模型实例\n",
    "print('RNN模型结构：', model)  # 打印模型的结构"
   ]
  },
  {
   "cell_type": "code",
   "execution_count": 5,
   "id": "1bc856b2",
   "metadata": {},
   "outputs": [
    {
     "name": "stdout",
     "output_type": "stream",
     "text": [
      "Epoch: 1000 cost = 0.000687\n",
      "Epoch: 2000 cost = 0.000210\n",
      "Epoch: 3000 cost = 0.000092\n",
      "Epoch: 4000 cost = 0.000047\n",
      "Epoch: 5000 cost = 0.000037\n"
     ]
    }
   ],
   "source": [
    "import torch.optim as optim # 导入优化器模块\n",
    "criterion = nn.CrossEntropyLoss() # 定义损失函数为交叉熵损失\n",
    "optimizer = optim.Adam(model.parameters(), lr=0.1) # 定义优化器为Adam，学习率为0.1\n",
    "# 训练模型\n",
    "for epoch in range(5000): # 设置训练迭代次数\n",
    "    optimizer.zero_grad() # 清除优化器的梯度\n",
    "    input_batch, target_batch = make_batch() # 创建输入和目标批处理数据\n",
    "    output = model(input_batch) # 将输入数据传入模型，得到输出结果\n",
    "    # output的形状为 [batch_size, n_class]，target_batch的形状为 [batch_size]\n",
    "    loss = criterion(output, target_batch) #计算损失值\n",
    "    if (epoch + 1) % 1000 == 0: # 每1000次迭代，打印损失值\n",
    "        print(f\"Epoch: {epoch + 1:04d} cost = {loss:.6f}\") \n",
    "    loss.backward() # 反向传播计算梯度\n",
    "    optimizer.step() # 更新模型参数"
   ]
  },
  {
   "cell_type": "code",
   "execution_count": 6,
   "id": "cc711e8a",
   "metadata": {},
   "outputs": [
    {
     "name": "stdout",
     "output_type": "stream",
     "text": [
      "['我', '讨厌'] -> 挨打\n",
      "['我', '喜欢'] -> 玩具\n"
     ]
    }
   ],
   "source": [
    "# 进行预测\n",
    "input_strs = [['我', '讨厌'], ['我', '喜欢']]  # 需要预测的输入序列\n",
    "# 将输入序列转换为对应的索引\n",
    "input_indices = [[word_to_idx[word] for word in seq] for seq in input_strs]  \n",
    "input_tensor = torch.LongTensor(input_indices)  # 将输入序列的索引转换为张量\n",
    "# 对输入序列进行预测，取输出中概率最大的类别\n",
    "predict = model(input_tensor).data.max(1)[1]  \n",
    "# 将预测结果的索引转换为对应的词汇\n",
    "predict_strs = [idx_to_word[n.item()] for n in predict.squeeze()]  \n",
    "for input_seq, pred in zip(input_strs, predict_strs):\n",
    "    print(input_seq, '->', pred)  # 打印输入序列和预测结果"
   ]
  },
  {
   "cell_type": "code",
   "execution_count": null,
   "id": "62aa7651",
   "metadata": {},
   "outputs": [],
   "source": []
  }
 ],
 "metadata": {
  "kernelspec": {
   "display_name": "Python 3 (ipykernel)",
   "language": "python",
   "name": "python3"
  },
  "language_info": {
   "codemirror_mode": {
    "name": "ipython",
    "version": 3
   },
   "file_extension": ".py",
   "mimetype": "text/x-python",
   "name": "python",
   "nbconvert_exporter": "python",
   "pygments_lexer": "ipython3",
   "version": "3.10.9"
  }
 },
 "nbformat": 4,
 "nbformat_minor": 5
}
